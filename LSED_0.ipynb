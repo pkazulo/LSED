{
 "cells": [
  {
   "cell_type": "markdown",
   "metadata": {},
   "source": [
    "Program jest zrobiony, ale wymaga upiększenia i skomentowania. Zrobię to w piątek 13.03 rano."
   ]
  },
  {
   "cell_type": "code",
   "execution_count": 2,
   "metadata": {},
   "outputs": [],
   "source": [
    "import numpy as np\n",
    "import matplotlib.pyplot as plt\n",
    "import pandas as pd"
   ]
  },
  {
   "cell_type": "code",
   "execution_count": 3,
   "metadata": {},
   "outputs": [],
   "source": [
    "d = {'x':[1,0],'y':[0,1]}\n",
    "S = pd.DataFrame(d)\n",
    "mt1 = np.array([-1,1])\n",
    "mt2 = np.array([2,4])\n",
    "mt3 = np.array([-2,2])\n",
    "n1 = 30\n",
    "n2 = 30\n",
    "n3 = 30\n",
    "n = n1+n2+n3\n",
    "X1 = np.random.multivariate_normal(mt1, S, n1)\n",
    "X2 = np.random.multivariate_normal(mt2, S, n2)\n",
    "X3 = np.random.multivariate_normal(mt3, S, n3)\n",
    "g = 3"
   ]
  },
  {
   "cell_type": "code",
   "execution_count": 4,
   "metadata": {},
   "outputs": [],
   "source": [
    "m = np.mean(np.array([mt1,mt2,mt3]),0)\n",
    "B = (np.dot(n1*(mt1 - m), np.transpose(mt1 - m)) + np.dot(n2*(mt2 - m), np.transpose(mt2 - m)) + np.dot(n3*(mt3 - m), np.transpose(mt3 - m)))/(g-1)\n",
    "W = ((n1 - 1) * S + (n2 - 1) * S + (n3 - 1) * S)/(n-g)\n",
    "U = np.dot(np.linalg.inv(W),B)\n",
    "l = np.linalg.eig(U)\n",
    "a = l[1][np.argmax(l[0])]"
   ]
  },
  {
   "cell_type": "code",
   "execution_count": 5,
   "metadata": {},
   "outputs": [
    {
     "data": {
      "image/png": "[encoded data removed]",
      "text/plain": [
       "<Figure size 432x288 with 1 Axes>"
      ]
     },
     "metadata": {
      "needs_background": "light"
     },
     "output_type": "display_data"
    }
   ],
   "source": [
    "x = np.array([-100, 100])\n",
    "y = (a[1]/a[0])*x\n",
    "plt.plot(X1[:,0], X1[:,1], 'o')\n",
    "plt.plot(X2[:,0], X2[:,1], 'o')\n",
    "plt.plot(X3[:,0], X3[:,1], 'o')\n",
    "plt.xlim(-5,5)\n",
    "plt.ylim(-2,8)\n",
    "plt.plot(x, y, '-r')\n",
    "plt.show()"
   ]
  },
  {
   "cell_type": "code",
   "execution_count": 6,
   "metadata": {},
   "outputs": [],
   "source": [
    "# def rzutowanie(X, A):\n",
    "#     Xz = (X[:,1] * A + X[:,0]) / (np.square(A) + 1)\n",
    "#     Yz = A * Xz\n",
    "#     d = {'x': Xz, 'y': Yz}\n",
    "#     return pd.DataFrame(data=d)"
   ]
  },
  {
   "cell_type": "code",
   "execution_count": 7,
   "metadata": {},
   "outputs": [],
   "source": [
    "def rzutowanie(X, A):\n",
    "    Xz = (X[:,1] * A + X[:,0]) / (np.square(A) + 1)\n",
    "    Yz = A * Xz\n",
    "    xy = np.array([Xz,Yz])\n",
    "    return xy"
   ]
  },
  {
   "cell_type": "code",
   "execution_count": 8,
   "metadata": {
    "scrolled": true
   },
   "outputs": [
    {
     "data": {
      "image/png": "[encoded data removed]",
      "text/plain": [
       "<Figure size 432x288 with 1 Axes>"
      ]
     },
     "metadata": {
      "needs_background": "light"
     },
     "output_type": "display_data"
    }
   ],
   "source": [
    "A = a[1]/a[0]\n",
    "r1 = rzutowanie(X1, A)\n",
    "r2 = rzutowanie(X2, A)\n",
    "r3 = rzutowanie(X3, A)\n",
    "plt.scatter(r1[0,:],r1[1,:],marker = 'o')\n",
    "plt.scatter(r2[0,:],r2[1,:],marker = '^')\n",
    "plt.scatter(r3[0,:],r3[1,:],marker = '*')\n",
    "plt.show()"
   ]
  },
  {
   "cell_type": "code",
   "execution_count": 9,
   "metadata": {},
   "outputs": [
    {
     "data": {
      "text/plain": [
       "<matplotlib.lines.Line2D at 0x9baec88>"
      ]
     },
     "execution_count": 9,
     "metadata": {},
     "output_type": "execute_result"
    },
    {
     "data": {
      "image/png": "[encoded data removed]",
      "text/plain": [
       "<Figure size 432x288 with 1 Axes>"
      ]
     },
     "metadata": {
      "needs_background": "light"
     },
     "output_type": "display_data"
    }
   ],
   "source": [
    "m1 = np.mean(r1[0,:])\n",
    "m2 = np.mean(r2[0,:])\n",
    "m3 = np.mean(r3[0,:])\n",
    "m12 = (m1 + m2)/2\n",
    "m13 = (m1 + m3)/2\n",
    "plt.plot(m1,0,'o')\n",
    "plt.plot(m2,0,'*')\n",
    "plt.plot(m3,0,'^')\n",
    "plt.axvline(x = m12, color = 'r')\n",
    "plt.axvline(x = m13, color = 'g')"
   ]
  },
  {
   "cell_type": "code",
   "execution_count": 10,
   "metadata": {},
   "outputs": [
    {
     "data": {
      "image/png": "[encoded data removed]",
      "text/plain": [
       "<Figure size 432x288 with 1 Axes>"
      ]
     },
     "metadata": {
      "needs_background": "light"
     },
     "output_type": "display_data"
    }
   ],
   "source": [
    "plt.plot(X1[:,0], X1[:,1], 'o')\n",
    "plt.plot(X2[:,0], X2[:,1], 'o')\n",
    "plt.plot(X3[:,0], X3[:,1], 'o')\n",
    "plt.xlim(-5,5)\n",
    "plt.ylim(-2,8)\n",
    "x = np.array([-100, 100])\n",
    "y = (a[1]/a[0])*x\n",
    "plt.plot(x, y, '-r')\n",
    "plt.plot(m1,0,'o')\n",
    "plt.plot(m2,0,'*')\n",
    "plt.plot(m3,0,'^')\n",
    "#plt.axvline(x = m12, color = 'r')\n",
    "#plt.axvline(x = m13, color = 'g')\n",
    "plt.show()"
   ]
  },
  {
   "cell_type": "code",
   "execution_count": null,
   "metadata": {},
   "outputs": [],
   "source": []
  }
 ],
 "metadata": {
  "kernelspec": {
   "display_name": "Python 3",
   "language": "python",
   "name": "python3"
  },
  "language_info": {
   "codemirror_mode": {
    "name": "ipython",
    "version": 3
   },
   "file_extension": ".py",
   "mimetype": "text/x-python",
   "name": "python",
   "nbconvert_exporter": "python",
   "pygments_lexer": "ipython3",
   "version": "3.7.4"
  }
 },
 "nbformat": 4,
 "nbformat_minor": 2
}
