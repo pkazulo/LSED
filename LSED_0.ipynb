{
 "cells": [
  {
   "cell_type": "markdown",
   "metadata": {},
   "source": [
    "Program jest zrobiony, ale wymaga upiększenia i skomentowania. Zrobię to w piątek 13.03 rano."
   ]
  },
  {
   "cell_type": "code",
   "execution_count": 73,
   "metadata": {},
   "outputs": [],
   "source": [
    "import numpy as np\n",
    "import matplotlib.pyplot as plt\n",
    "import pandas as pd"
   ]
  },
  {
   "cell_type": "markdown",
   "metadata": {},
   "source": [
    "Definiowanie 3 klas z parametrami z zadania."
   ]
  },
  {
   "cell_type": "code",
   "execution_count": 74,
   "metadata": {},
   "outputs": [],
   "source": [
    "d = {'x':[1,0],'y':[0,1]}\n",
    "S = pd.DataFrame(d)    #macierz kowariancji\n",
    "mt1 = np.array([-1,1]) #średnie klas\n",
    "mt2 = np.array([2,4])\n",
    "mt3 = np.array([-2,2])\n",
    "n1 = 30                #liczebność klas\n",
    "n2 = 30\n",
    "n3 = 30\n",
    "n = n1+n2+n3\n",
    "X1 = np.random.multivariate_normal(mt1, S, n1) #losowanie obserwacji w klasach na podstawie wcześniejszych parametrów\n",
    "X2 = np.random.multivariate_normal(mt2, S, n2)\n",
    "X3 = np.random.multivariate_normal(mt3, S, n3)\n",
    "g = 3"
   ]
  },
  {
   "cell_type": "markdown",
   "metadata": {},
   "source": [
    "Obliczenie średnich we wszystkich klasach m, macierz zmienności międzygrupowej B, macierz zmienności wewnątrzgrupowej W, macierz służącą do znalezienia kierunku a maksymalizującego J."
   ]
  },
  {
   "cell_type": "code",
   "execution_count": 75,
   "metadata": {},
   "outputs": [],
   "source": [
    "m = np.mean(np.array([mt1,mt2,mt3]),0)\n",
    "B = (np.dot(n1*(mt1 - m), np.transpose(mt1 - m)) + np.dot(n2*(mt2 - m), np.transpose(mt2 - m)) + np.dot(n3*(mt3 - m), np.transpose(mt3 - m)))/(g-1)\n",
    "W = ((n1 - 1) * S + (n2 - 1) * S + (n3 - 1) * S)/(n-g)\n",
    "U = np.dot(np.linalg.inv(W),B)\n",
    "l = np.linalg.eig(U) #wyznaczenie wartości i wektorów własnych U\n",
    "a = l[1][np.argmax(l[0])] #wektor własny odpowiadający max wartości własnej"
   ]
  },
  {
   "cell_type": "markdown",
   "metadata": {},
   "source": [
    "Zdefiniowanie funkcji do rzutowania obserwacji na wyznaczony kierunek."
   ]
  },
  {
   "cell_type": "code",
   "execution_count": 76,
   "metadata": {},
   "outputs": [],
   "source": [
    "def rzutowanie(X, A):\n",
    "    Xz = (X[:,1] * A + X[:,0]) / (np.square(A) + 1)\n",
    "    Yz = A * Xz\n",
    "    xy = np.array([Xz,Yz])\n",
    "    return xy"
   ]
  },
  {
   "cell_type": "markdown",
   "metadata": {},
   "source": [
    "Zrzutowanie obserwacji na kierunek a i wyliczenie średnich dla kadej klasy, aby wykres pozostał czytelny."
   ]
  },
  {
   "cell_type": "code",
   "execution_count": 77,
   "metadata": {},
   "outputs": [],
   "source": [
    "A = a[1]/a[0]\n",
    "r1 = rzutowanie(X1, A)\n",
    "r2 = rzutowanie(X2, A)\n",
    "r3 = rzutowanie(X3, A)\n",
    "m1 = np.mean(r1[0,:])\n",
    "m2 = np.mean(r2[0,:])\n",
    "m3 = np.mean(r3[0,:])"
   ]
  },
  {
   "cell_type": "markdown",
   "metadata": {},
   "source": [
    "Wykreślenie obserwacji, wyznaczonego kierunku rozdzielającego oraz średnich położeń zrzutowanych obserwacji."
   ]
  },
  {
   "cell_type": "code",
   "execution_count": 78,
   "metadata": {
    "scrolled": true
   },
   "outputs": [
    {
     "data": {
      "image/png": "[encoded data removed]",
      "text/plain": [
       "<Figure size 432x288 with 1 Axes>"
      ]
     },
     "metadata": {
      "needs_background": "light"
     },
     "output_type": "display_data"
    }
   ],
   "source": [
    "x = np.array([-100, 100])\n",
    "y = (a[1]/a[0])*x\n",
    "fig, ax = plt.subplots()\n",
    "ax.plot(X1[:,0], X1[:,1], 'o', label = 'Class 1')\n",
    "ax.plot(X2[:,0], X2[:,1], 'o', label = 'Class 2')\n",
    "ax.plot(X3[:,0], X3[:,1], 'o', label = 'Class 3')\n",
    "ax.plot(x, y, '-r')\n",
    "ax.plot(m1,0, 'C0^', ms = 15, mec = 'k')\n",
    "ax.plot(m2,0, 'C1^', ms = 15, mec = 'k')\n",
    "ax.plot(m3,0, 'C2^', ms = 15, mec = 'k')\n",
    "ax.set_title(\"Wykres\")\n",
    "ax.set_xlabel(\"X\")\n",
    "ax.set_ylabel(\"Y\")\n",
    "ax.set_xlim(-5,5)\n",
    "ax.set_ylim(-2,8)\n",
    "ax.legend()\n",
    "plt.show(fig)"
   ]
  }
 ],
 "metadata": {
  "kernelspec": {
   "display_name": "Python 3",
   "language": "python",
   "name": "python3"
  },
  "language_info": {
   "codemirror_mode": {
    "name": "ipython",
    "version": 3
   },
   "file_extension": ".py",
   "mimetype": "text/x-python",
   "name": "python",
   "nbconvert_exporter": "python",
   "pygments_lexer": "ipython3",
   "version": "3.7.4"
  }
 },
 "nbformat": 4,
 "nbformat_minor": 2
}
