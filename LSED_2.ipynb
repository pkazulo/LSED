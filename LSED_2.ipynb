{
 "cells": [
  {
   "cell_type": "code",
   "execution_count": 1,
   "metadata": {},
   "outputs": [],
   "source": [
    "import numpy as np\n",
    "import matplotlib.pyplot as plt\n",
    "import pandas as pd\n",
    "import sklearn as sk\n",
    "from sklearn.discriminant_analysis import LinearDiscriminantAnalysis as LDA\n",
    "from sklearn.discriminant_analysis import QuadraticDiscriminantAnalysis as QDA\n",
    "from sklearn.naive_bayes import GaussianNB as NB\n",
    "from scipy.stats import norm\n",
    "import urllib\n",
    "from random import sample"
   ]
  },
  {
   "cell_type": "markdown",
   "metadata": {},
   "source": [
    "Wczytanie danych i nazwanie kolumn."
   ]
  },
  {
   "cell_type": "code",
   "execution_count": 2,
   "metadata": {},
   "outputs": [],
   "source": [
    "link = \"https://archive.ics.uci.edu/ml/machine-learning-databases/wine/wine.data\"\n",
    "f = urllib.request.urlopen(link)\n",
    "data = pd.read_csv(f, sep=\",\", header=None)\n",
    "data.columns = [\"class\", \"Alcohol\", \"Malic.acid\", \"Ash\", \"Alcalinity.of.ash\", \"Magnesium\", \"Total.phenols\", \"Flavanoids\", \"Nonflavanoid.phenols\", \"Proanthocyanins\", \"Color.intensity\", \"Hue\", \"OD280OD315.of.diluted.wines\", \"Proline\"]"
   ]
  },
  {
   "cell_type": "raw",
   "metadata": {},
   "source": [
    "Utworzenie klasyfikatorów dla wszystkich składowych obserwacji."
   ]
  },
  {
   "cell_type": "code",
   "execution_count": 3,
   "metadata": {},
   "outputs": [],
   "source": [
    "LDA_discriminant = LDA()\n",
    "LDA_pred = LDA_discriminant.fit(data[data.columns[1:]], data[\"class\"]).predict(data[data.columns[1:]])\n",
    "QDA_discriminant = QDA()\n",
    "QDA_pred = QDA_discriminant.fit(data[data.columns[1:]], data[\"class\"]).predict(data[data.columns[1:]])\n",
    "NB_discriminant = NB()\n",
    "NB_pred = NB_discriminant.fit(data[data.columns[1:]], data[\"class\"]).predict(data[data.columns[1:]])"
   ]
  },
  {
   "cell_type": "markdown",
   "metadata": {},
   "source": [
    "Funkcja zwracająca tablicę z parametrami klasyfikatora na danym zbiorze."
   ]
  },
  {
   "cell_type": "code",
   "execution_count": 4,
   "metadata": {},
   "outputs": [],
   "source": [
    "def CM_large(first, pred):\n",
    "    \n",
    "    CM = np.matrix(pd.crosstab(first, pred))\n",
    "    \n",
    "    ACC = np.sum(np.diag(CM))/np.sum(CM)\n",
    "    \n",
    "    TP = CM[1,1]\n",
    "    TN = CM[0,0]\n",
    "    \n",
    "    #suma wartości w poszczególnych wierszach\n",
    "    sums = CM.sum(axis = 1)\n",
    "    \n",
    "    TPR = TP / np.asscalar(sums[1])\n",
    "    FPR = 1 - TN / np.asscalar(sums[0])\n",
    "    \n",
    "    return np.array([round(ACC, 4), TP, TN, round(TPR, 4), round(FPR, 4)])"
   ]
  },
  {
   "cell_type": "markdown",
   "metadata": {},
   "source": [
    "Wyznaczenie parametrów klasyfikatorów dla pełnego zbioru danych."
   ]
  },
  {
   "cell_type": "code",
   "execution_count": 5,
   "metadata": {},
   "outputs": [
    {
     "name": "stdout",
     "output_type": "stream",
     "text": [
      "          ACC    TP    TN     TPR     FPR\n",
      "LDA    1.0000  71.0  59.0  1.0000  0.0000\n",
      "QDA    0.9944  70.0  59.0  0.9859  0.0000\n",
      "Bayes  0.9888  70.0  58.0  0.9859  0.0169\n"
     ]
    }
   ],
   "source": [
    "resultLDA = CM_large(data[\"class\"], LDA_pred)\n",
    "resultQDA = CM_large(data[\"class\"], QDA_pred)\n",
    "resultNB = CM_large(data[\"class\"], NB_pred)\n",
    "result = pd.DataFrame(np.array([resultLDA, resultQDA, resultNB]), columns = [\"ACC\", \"TP\", \"TN\", \"TPR\", \"FPR\"], index = [\"LDA\", \"QDA\", \"Bayes\"])\n",
    "print(result)"
   ]
  },
  {
   "cell_type": "markdown",
   "metadata": {},
   "source": [
    "Wyznaczenie parametrów klasyfikatorów dla 2 pierwszych składowych obserwacji."
   ]
  },
  {
   "cell_type": "code",
   "execution_count": 6,
   "metadata": {},
   "outputs": [
    {
     "name": "stdout",
     "output_type": "stream",
     "text": [
      "LDA      0.8090\n",
      "QDA      0.8146\n",
      "Bayes    0.8090\n",
      "Name: ACC, dtype: float64\n"
     ]
    }
   ],
   "source": [
    "LDA_pred_2 = LDA_discriminant.fit(data[data.columns[1:3]], data[\"class\"]).predict(data[data.columns[1:3]])\n",
    "QDA_pred_2 = QDA_discriminant.fit(data[data.columns[1:3]], data[\"class\"]).predict(data[data.columns[1:3]])\n",
    "NB_pred_2 = NB_discriminant.fit(data[data.columns[1:3]], data[\"class\"]).predict(data[data.columns[1:3]])\n",
    "resultLDA_2 = CM_large(data[\"class\"], LDA_pred_2)\n",
    "resultQDA_2 = CM_large(data[\"class\"], QDA_pred_2)\n",
    "resultNB_2 = CM_large(data[\"class\"], NB_pred_2)\n",
    "result_2 = pd.DataFrame(np.array([resultLDA_2, resultQDA_2, resultNB_2]), columns = [\"ACC\", \"TP\", \"TN\", \"TPR\", \"FPR\"], index = [\"LDA\", \"QDA\", \"Bayes\"])\n",
    "print(result_2[\"ACC\"])"
   ]
  },
  {
   "cell_type": "markdown",
   "metadata": {},
   "source": [
    "Wyznaczenie parametrów klasyfikatorów dla 5 pierwszych składowych obserwacji.\n"
   ]
  },
  {
   "cell_type": "code",
   "execution_count": 7,
   "metadata": {},
   "outputs": [
    {
     "name": "stdout",
     "output_type": "stream",
     "text": [
      "LDA      0.8764\n",
      "QDA      0.8876\n",
      "Bayes    0.8539\n",
      "Name: ACC, dtype: float64\n"
     ]
    }
   ],
   "source": [
    "LDA_pred_5 = LDA_discriminant.fit(data[data.columns[1:6]], data[\"class\"]).predict(data[data.columns[1:6]])\n",
    "QDA_pred_5 = QDA_discriminant.fit(data[data.columns[1:6]], data[\"class\"]).predict(data[data.columns[1:6]])\n",
    "NB_pred_5 = NB_discriminant.fit(data[data.columns[1:6]], data[\"class\"]).predict(data[data.columns[1:6]])\n",
    "resultLDA_5 = CM_large(data[\"class\"], LDA_pred_5)\n",
    "resultQDA_5 = CM_large(data[\"class\"], QDA_pred_5)\n",
    "resultNB_5 = CM_large(data[\"class\"], NB_pred_5)\n",
    "result_5 = pd.DataFrame(np.array([resultLDA_5, resultQDA_5, resultNB_5]), columns = [\"ACC\", \"TP\", \"TN\", \"TPR\", \"FPR\"], index = [\"LDA\", \"QDA\", \"Bayes\"])\n",
    "print(result_5[\"ACC\"])"
   ]
  },
  {
   "cell_type": "markdown",
   "metadata": {},
   "source": [
    "Wyznaczenie parametrów klasyfikatorów dla 10 pierwszych składowych obserwacji.\n"
   ]
  },
  {
   "cell_type": "code",
   "execution_count": 8,
   "metadata": {},
   "outputs": [
    {
     "name": "stdout",
     "output_type": "stream",
     "text": [
      "LDA      0.9888\n",
      "QDA      0.9944\n",
      "Bayes    0.9607\n",
      "Name: ACC, dtype: float64\n"
     ]
    }
   ],
   "source": [
    "LDA_pred_10 = LDA_discriminant.fit(data[data.columns[1:11]], data[\"class\"]).predict(data[data.columns[1:11]])\n",
    "QDA_pred_10 = QDA_discriminant.fit(data[data.columns[1:11]], data[\"class\"]).predict(data[data.columns[1:11]])\n",
    "NB_pred_10 = NB_discriminant.fit(data[data.columns[1:11]], data[\"class\"]).predict(data[data.columns[1:11]])\n",
    "resultLDA_10 = CM_large(data[\"class\"], LDA_pred_10)\n",
    "resultQDA_10 = CM_large(data[\"class\"], QDA_pred_10)\n",
    "resultNB_10 = CM_large(data[\"class\"], NB_pred_10)\n",
    "result_10 = pd.DataFrame(np.array([resultLDA_10, resultQDA_10, resultNB_10]), columns = [\"ACC\", \"TP\", \"TN\", \"TPR\", \"FPR\"], index = [\"LDA\", \"QDA\", \"Bayes\"])\n",
    "print(result_10[\"ACC\"])"
   ]
  },
  {
   "cell_type": "markdown",
   "metadata": {},
   "source": [
    "Podzielenie zbioru danych na podzbiory w stosunku 50/25/25 (80/40/40)"
   ]
  },
  {
   "cell_type": "code",
   "execution_count": 9,
   "metadata": {},
   "outputs": [],
   "source": [
    "c = range(160)\n",
    "indexes = sample(c, 160)\n",
    "PU = data.loc[indexes[0:80]]\n",
    "PW = data.loc[indexes[81:120]]\n",
    "PT = data.loc[indexes[121:160]]"
   ]
  },
  {
   "cell_type": "markdown",
   "metadata": {},
   "source": [
    "Predykcja zbioru PW"
   ]
  },
  {
   "cell_type": "code",
   "execution_count": 10,
   "metadata": {
    "scrolled": true
   },
   "outputs": [
    {
     "name": "stdout",
     "output_type": "stream",
     "text": [
      "LDA      0.6923\n",
      "QDA      0.7436\n",
      "Bayes    0.7436\n",
      "Name: ACC, dtype: float64\n"
     ]
    }
   ],
   "source": [
    "LDA_pred_2_PW = LDA_discriminant.fit(PU[PU.columns[1:3]], PU[\"class\"]).predict(PW[PW.columns[1:3]])\n",
    "QDA_pred_2_PW = QDA_discriminant.fit(PU[PU.columns[1:3]], PU[\"class\"]).predict(PW[PW.columns[1:3]])\n",
    "NB_pred_2_PW = NB_discriminant.fit(PU[PU.columns[1:3]], PU[\"class\"]).predict(PW[PW.columns[1:3]])\n",
    "resultLDA_2_PW = CM_large(PW[\"class\"], LDA_pred_2_PW)\n",
    "resultQDA_2_PW = CM_large(PW[\"class\"], QDA_pred_2_PW)\n",
    "resultNB_2_PW = CM_large(PW[\"class\"], NB_pred_2_PW)\n",
    "result_2_PW = pd.DataFrame(np.array([resultLDA_2_PW, resultQDA_2_PW, resultNB_2_PW]), columns = [\"ACC\", \"TP\", \"TN\", \"TPR\", \"FPR\"], index = [\"LDA\", \"QDA\", \"Bayes\"])\n",
    "print(result_2_PW[\"ACC\"])"
   ]
  },
  {
   "cell_type": "markdown",
   "metadata": {},
   "source": [
    "Predykcja zbioru PT metodą Bayes"
   ]
  },
  {
   "cell_type": "code",
   "execution_count": 11,
   "metadata": {},
   "outputs": [
    {
     "name": "stdout",
     "output_type": "stream",
     "text": [
      "Bayes    0.8205\n",
      "Name: ACC, dtype: float64\n"
     ]
    }
   ],
   "source": [
    "NB_pred_2_PT = NB_discriminant.fit(PU[PU.columns[1:3]], PU[\"class\"]).predict(PT[PT.columns[1:3]])\n",
    "resultNB_2_PT = CM_large(PT[\"class\"], NB_pred_2_PT)\n",
    "result_2_PT = pd.DataFrame(resultNB_2_PT.reshape(1,5), columns = [\"ACC\", \"TP\", \"TN\", \"TPR\", \"FPR\"], index = [\"Bayes\"])\n",
    "print(result_2_PT[\"ACC\"])"
   ]
  },
  {
   "cell_type": "markdown",
   "metadata": {},
   "source": [
    "Funkcja główna kroswalidacji, tworzy macierz pomyłek"
   ]
  },
  {
   "cell_type": "code",
   "execution_count": 139,
   "metadata": {},
   "outputs": [],
   "source": [
    "def CV_main(learn, test):\n",
    "    learn_classifier = LDA()\n",
    "    test_pred = learn_classifier.fit(learn[learn.columns[1:3]], learn[\"class\"]).predict(test[test.columns[1:3]])\n",
    "    CM = np.matrix(pd.crosstab(test[\"class\"], test_pred))\n",
    "    return (np.sum(CM) - np.sum(np.diag(CM)))"
   ]
  },
  {
   "cell_type": "markdown",
   "metadata": {},
   "source": [
    "Funkcja wykonuje kroswalidację na podanym zbiorze danych dzieląc go na K pseudoprób"
   ]
  },
  {
   "cell_type": "code",
   "execution_count": 144,
   "metadata": {},
   "outputs": [],
   "source": [
    "def CV(data, K):\n",
    "    N = len(data)\n",
    "    data_shuffled = data.sample(frac = 1)\n",
    "    elements_in_group = np.floor(N/K)\n",
    "    a = np.zeros(K+1)\n",
    "    for i in range(K):\n",
    "        a[i+1] = elements_in_group*(i+1)+1\n",
    "    a = a.astype(int)\n",
    "    res = np.zeros(K)  \n",
    "    for i in range(K):\n",
    "        res[i] = CV_main(data_shuffled.drop(range(a[i],a[i+1])),data_shuffled[a[i]:a[i+1]])\n",
    "    return res, (K-1)*elements_in_group"
   ]
  },
  {
   "cell_type": "markdown",
   "metadata": {},
   "source": [
    "Porównanie wyników metody LDA dla 2 pierwszych składowych"
   ]
  },
  {
   "cell_type": "code",
   "execution_count": 148,
   "metadata": {},
   "outputs": [
    {
     "name": "stdout",
     "output_type": "stream",
     "text": [
      "Skuteczność LDA (ACC): \n",
      "powtórne podstawienie:  0.809 \n",
      "podzielenie na grupy:  0.6923 \n",
      "kroswalidacja:  0.729\n"
     ]
    }
   ],
   "source": [
    "ar, PUcrossval = CV(data,5)\n",
    "print(\"Skuteczność LDA (ACC):\", \"\\npowtórne podstawienie: \", result_2.loc[\"LDA\", \"ACC\"], \"\\npodzielenie na grupy: \", result_2_PW.loc[\"LDA\", \"ACC\"], \"\\nkroswalidacja: \", np.round(1-sum(ar/PUcrossval),3))"
   ]
  }
 ],
 "metadata": {
  "kernelspec": {
   "display_name": "Python 3",
   "language": "python",
   "name": "python3"
  },
  "language_info": {
   "codemirror_mode": {
    "name": "ipython",
    "version": 3
   },
   "file_extension": ".py",
   "mimetype": "text/x-python",
   "name": "python",
   "nbconvert_exporter": "python",
   "pygments_lexer": "ipython3",
   "version": "3.7.4"
  }
 },
 "nbformat": 4,
 "nbformat_minor": 2
}
