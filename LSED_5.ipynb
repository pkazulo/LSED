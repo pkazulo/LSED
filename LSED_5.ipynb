{
 "cells": [
  {
   "cell_type": "code",
   "execution_count": 21,
   "metadata": {},
   "outputs": [],
   "source": [
    "import numpy as np\n",
    "import matplotlib.pyplot as plt\n",
    "import pandas as pd\n",
    "from sklearn.datasets import load_iris as iris\n",
    "from sklearn.discriminant_analysis import LinearDiscriminantAnalysis as LDA\n",
    "from sklearn.ensemble import BaggingClassifier\n",
    "from sklearn.metrics import confusion_matrix\n",
    "from sklearn.model_selection import cross_val_score\n",
    "from sklearn import tree\n",
    "from random import sample"
   ]
  },
  {
   "cell_type": "markdown",
   "metadata": {},
   "source": [
    "Wczytanie danych i podział PU:PT = 80:20"
   ]
  },
  {
   "cell_type": "code",
   "execution_count": 22,
   "metadata": {},
   "outputs": [],
   "source": [
    "ir=iris()\n",
    "data = pd.DataFrame(data= np.c_[ir['data'], ir['target']],\n",
    "                     columns= ir['feature_names'] + ['target'])\n",
    "indexes_0 = sample(range(50), 50)\n",
    "indexes_1 = sample(range(50,100), 50)\n",
    "indexes_2 = sample(range(100,150), 50)\n",
    "\n",
    "PU = data.loc[indexes_0[0:40]].append(data.loc[indexes_1[0:40]]).append(data.loc[indexes_2[0:40]]).sample(frac=1)\n",
    "PT = data.loc[indexes_0[40:50]].append(data.loc[indexes_1[40:50]]).append(data.loc[indexes_2[40:50]]).sample(frac=1)\n",
    "PU.target = PU.target.astype(int)\n",
    "PT.target = PT.target.astype(int)"
   ]
  },
  {
   "cell_type": "markdown",
   "metadata": {},
   "source": [
    "Wyznaczenie parametru alpha dla optymalnego drzewa decyzyjnego."
   ]
  },
  {
   "cell_type": "code",
   "execution_count": 23,
   "metadata": {},
   "outputs": [],
   "source": [
    "tree_classifier = tree.DecisionTreeClassifier()\n",
    "d = tree_classifier.cost_complexity_pruning_path(PU[PU.columns[:4]],PU[\"target\"])\n",
    "ccp_alphas = d.ccp_alphas.reshape(len(d.ccp_alphas),1)\n",
    "accuracy = np.array([])\n",
    "for i in range(len(ccp_alphas)):\n",
    "    pruned_tree_classifier = tree.DecisionTreeClassifier(ccp_alpha=ccp_alphas[i])  \n",
    "    accuracy = np.append(accuracy, cross_val_score(pruned_tree_classifier, PU[PU.columns[:4]], PU[\"target\"], cv = 5).mean())"
   ]
  },
  {
   "cell_type": "markdown",
   "metadata": {},
   "source": [
    "Wyznaczenie liczby fałszywych predykcji dla zespołów M klasyfikatorów LDA i drzew decyzyjnych. M = [1,2,5,10,20,50]"
   ]
  },
  {
   "cell_type": "code",
   "execution_count": 24,
   "metadata": {},
   "outputs": [],
   "source": [
    "M_class = np.array([1,2,5,10,20,50])\n",
    "false_pred_LDA = np.zeros(6)\n",
    "false_pred_tree = np.zeros(6)\n",
    "for i in range(len(M_class)):\n",
    "    #klasyfikacja PT, wyznaczenie macierzy pomyłek i obliczenie liczby fałszywych predykcji dla zespołu LDA\n",
    "    predictions = BaggingClassifier(LDA(), n_estimators = M_class[i]).fit(PU[PU.columns[:4]], PU[\"target\"]).predict(PT[PT.columns[:4]])\n",
    "    cm = confusion_matrix(PT[\"target\"],predictions)\n",
    "    false_pred_LDA[i] = sum(sum(cm))-sum(np.diag(cm))\n",
    "    #klasyfikacja PT, wyznaczenie macierzy pomyłek i obliczenie liczby fałszywych predykcji dla zespołu drzew decyzyjnych\n",
    "    predictions = BaggingClassifier(tree.DecisionTreeClassifier(ccp_alpha = ccp_alphas[np.argmax(accuracy)]), n_estimators = M_class[i]).fit(PU[PU.columns[:4]], PU[\"target\"]).predict(PT[PT.columns[:4]])\n",
    "    cm = confusion_matrix(PT[\"target\"],predictions)\n",
    "    false_pred_tree[i] = sum(sum(cm))-sum(np.diag(cm))"
   ]
  },
  {
   "cell_type": "markdown",
   "metadata": {},
   "source": [
    "Wykreślenie liczby fałszywych predykcji dla zespołów M klasyfikatorów LDA i drzew decyzyjnych."
   ]
  },
  {
   "cell_type": "code",
   "execution_count": 27,
   "metadata": {
    "scrolled": true
   },
   "outputs": [
    {
     "data": {
      "image/png": "[encoded data removed]",
      "text/plain": [
       "<Figure size 432x288 with 1 Axes>"
      ]
     },
     "metadata": {
      "needs_background": "light"
     },
     "output_type": "display_data"
    }
   ],
   "source": [
    "fig, ax = plt.subplots()\n",
    "ax.scatter(M_class, false_pred_LDA, label = \"LDA Ensemble\", alpha = 0.5)\n",
    "ax.scatter(M_class, false_pred_tree, label = \"Decision Tree Ensemble\", alpha = 0.5)\n",
    "ax.set_title(\"Wykres fałszywych predykcji od ilości klasyfikatorów\")\n",
    "ax.set_xlabel(\"Liczba klasyfikatorów\")\n",
    "ax.set_ylabel(\"Liczba fałszywych predykcji\")\n",
    "ax.legend()\n",
    "plt.show(fig)"
   ]
  }
 ],
 "metadata": {
  "kernelspec": {
   "display_name": "Python 3",
   "language": "python",
   "name": "python3"
  },
  "language_info": {
   "codemirror_mode": {
    "name": "ipython",
    "version": 3
   },
   "file_extension": ".py",
   "mimetype": "text/x-python",
   "name": "python",
   "nbconvert_exporter": "python",
   "pygments_lexer": "ipython3",
   "version": "3.7.7"
  }
 },
 "nbformat": 4,
 "nbformat_minor": 4
}
