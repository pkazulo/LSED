{
 "cells": [
  {
   "cell_type": "code",
   "execution_count": 57,
   "metadata": {},
   "outputs": [],
   "source": [
    "import numpy as np\n",
    "import matplotlib.pyplot as plt\n",
    "import pandas as pd\n",
    "import sklearn as sk\n",
    "from sklearn.naive_bayes import GaussianNB\n",
    "from scipy.stats import norm"
   ]
  },
  {
   "cell_type": "markdown",
   "metadata": {},
   "source": [
    "Losowanie elementów na podstawie zadanych parametrów"
   ]
  },
  {
   "cell_type": "code",
   "execution_count": 79,
   "metadata": {},
   "outputs": [],
   "source": [
    "d = {'x':[4,0],'y':[0,4]}\n",
    "S = pd.DataFrame(d)    #macierz kowariancji\n",
    "mt1 = np.array([-3,-1]) #średnie klas\n",
    "mt2 = np.array([2,2])\n",
    "n1 = 40                #liczebność klas\n",
    "n2 = 30\n",
    "n = n1+n2\n",
    "X1 = np.random.multivariate_normal(mt1, S, n1) #losowanie obserwacji w klasach na podstawie wcześniejszych parametrów\n",
    "X2 = np.random.multivariate_normal(mt2, S, n2)"
   ]
  },
  {
   "cell_type": "markdown",
   "metadata": {},
   "source": [
    "Wykreślenie elementów klas"
   ]
  },
  {
   "cell_type": "code",
   "execution_count": 94,
   "metadata": {},
   "outputs": [
    {
     "data": {
      "text/plain": [
       "[<matplotlib.lines.Line2D at 0x12392108>]"
      ]
     },
     "execution_count": 94,
     "metadata": {},
     "output_type": "execute_result"
    },
    {
     "data": {
      "image/png": "[encoded data removed]",
      "text/plain": [
       "<Figure size 432x288 with 1 Axes>"
      ]
     },
     "metadata": {
      "needs_background": "light"
     },
     "output_type": "display_data"
    }
   ],
   "source": [
    "fig, ax = plt.subplots()\n",
    "ax.plot(X1[:,0], X1[:,1], 'o', label = 'Class 1')\n",
    "ax.plot(X2[:,0], X2[:,1], 'o', label = 'Class 2')"
   ]
  },
  {
   "cell_type": "markdown",
   "metadata": {},
   "source": [
    "Sklejenie współrzędnych wylosowanych punktów i dodanie kolumn z info o klasach"
   ]
  },
  {
   "cell_type": "code",
   "execution_count": 95,
   "metadata": {},
   "outputs": [],
   "source": [
    "X1_data = pd.DataFrame(X1, columns = [\"x\", \"y\"])\n",
    "X1_data[\"class\"] = [1] * len(X1)\n",
    "X2_data = pd.DataFrame(X2, columns = [\"x\", \"y\"])\n",
    "X2_data[\"class\"] = [2] * len(X2)\n",
    "XX = X1_data.append(X2_data, sort = False)"
   ]
  },
  {
   "cell_type": "markdown",
   "metadata": {},
   "source": [
    "Tworzenie siatki współrzędnych (odpowiednik expand.grid() z R)"
   ]
  },
  {
   "cell_type": "code",
   "execution_count": 96,
   "metadata": {
    "scrolled": true
   },
   "outputs": [],
   "source": [
    "x = np.arange(-10, 10, 0.1)\n",
    "y = np.arange(-10, 10, 0.1)\n",
    "xx = np.array(np.meshgrid(x, y)).reshape(2, len(x)*len(y)).T\n",
    "df = pd.DataFrame(xx, columns = [\"x\",\"y\"])"
   ]
  },
  {
   "cell_type": "markdown",
   "metadata": {},
   "source": [
    "Utworzenie klasyfikatora i wykreślenie rezultatu dyskryminacji przy użyciu funkcji GaussianNB"
   ]
  },
  {
   "cell_type": "code",
   "execution_count": 97,
   "metadata": {},
   "outputs": [
    {
     "data": {
      "image/png": "[encoded data removed]",
      "text/plain": [
       "<Figure size 432x288 with 1 Axes>"
      ]
     },
     "metadata": {
      "needs_background": "light"
     },
     "output_type": "display_data"
    }
   ],
   "source": [
    "NB = GaussianNB()\n",
    "predictions = NB.fit(XX[[\"x\",\"y\"]], XX[\"class\"]).predict(df).reshape(len(x),len(y))\n",
    "fig, ax = plt.subplots()\n",
    "ax.contourf(x,y, predictions, colors = [\"yellow\", \"lightgreen\"])\n",
    "ax.set_title(\"Wykres\")\n",
    "ax.set_xlabel(\"X\")\n",
    "ax.set_ylabel(\"Y\")\n",
    "plt.show(fig)"
   ]
  },
  {
   "cell_type": "markdown",
   "metadata": {},
   "source": [
    "Wyznaczenie parametrów klas na podstawie danych"
   ]
  },
  {
   "cell_type": "code",
   "execution_count": 98,
   "metadata": {},
   "outputs": [],
   "source": [
    "pi1 = n1/n   #prawdopodobieństwa a priori\n",
    "pi2 = n2/n\n",
    "\n",
    "Se1 = np.cov(X1_data[[\"x\", \"y\"]], rowvar = False)   #macierze kowariancji\n",
    "Se2 = np.cov(X2_data[[\"x\", \"y\"]], rowvar = False)\n",
    "\n",
    "me1 = np.array([np.mean(X1_data[\"x\"]),np.mean(X1_data[\"y\"])])   #średnie klas\n",
    "me2 = np.array([np.mean(X2_data[\"x\"]),np.mean(X2_data[\"y\"])])"
   ]
  },
  {
   "cell_type": "markdown",
   "metadata": {},
   "source": [
    "Utworzenie klasyfikatora i wykreślenie rezultatu dyskryminacji na podstawie prawdopodobieństw a posteriori"
   ]
  },
  {
   "cell_type": "code",
   "execution_count": 99,
   "metadata": {},
   "outputs": [
    {
     "data": {
      "image/png": "[encoded data removed]",
      "text/plain": [
       "<Figure size 432x288 with 1 Axes>"
      ]
     },
     "metadata": {
      "needs_background": "light"
     },
     "output_type": "display_data"
    }
   ],
   "source": [
    "def nbayes(X, m1, m2, S1, S2, pi1, pi2):\n",
    "    return(np.log(pi1 * norm.pdf(X[\"x\"], m1[0], np.sqrt(S1[0, 0])) * norm.pdf(X[\"y\"], m1[1], np.sqrt(S1[1, 1])) / (pi2 * norm.pdf(X[\"x\"], m2[0], np.sqrt(S2[0, 0])) * norm.pdf(X[\"y\"], m2[1], np.sqrt(S2[1, 1])))))\n",
    "\n",
    "mat = np.matrix(nbayes(df,me1,me2,Se1,Se2,pi1,pi2)).reshape(len(x),len(y))\n",
    "\n",
    "fig, ax = plt.subplots()\n",
    "ax.contourf(x,y, mat, 0, colors = [\"lightgreen\", \"yellow\"])\n",
    "ax.set_title(\"Wykres\")\n",
    "ax.set_xlabel(\"X\")\n",
    "ax.set_ylabel(\"Y\")\n",
    "plt.show(fig)"
   ]
  }
 ],
 "metadata": {
  "kernelspec": {
   "display_name": "Python 3",
   "language": "python",
   "name": "python3"
  },
  "language_info": {
   "codemirror_mode": {
    "name": "ipython",
    "version": 3
   },
   "file_extension": ".py",
   "mimetype": "text/x-python",
   "name": "python",
   "nbconvert_exporter": "python",
   "pygments_lexer": "ipython3",
   "version": "3.7.4"
  }
 },
 "nbformat": 4,
 "nbformat_minor": 2
}
