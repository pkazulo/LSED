{
 "cells": [
  {
   "cell_type": "code",
   "execution_count": 203,
   "metadata": {},
   "outputs": [],
   "source": [
    "import numpy as np\n",
    "import matplotlib.pyplot as plt\n",
    "import pandas as pd\n",
    "import sklearn as sk\n",
    "from sklearn.naive_bayes import GaussianNB\n",
    "from scipy.stats import norm"
   ]
  },
  {
   "cell_type": "code",
   "execution_count": 210,
   "metadata": {},
   "outputs": [],
   "source": [
    "d = {'x':[4,0],'y':[0,4]}\n",
    "S = pd.DataFrame(d)    #macierz kowariancji\n",
    "mt1 = np.array([-3,-1]) #średnie klas\n",
    "mt2 = np.array([2,2])\n",
    "n1 = 40                #liczebność klas\n",
    "n2 = 30\n",
    "n = n1+n2\n",
    "X1 = np.random.multivariate_normal(mt1, S, n1) #losowanie obserwacji w klasach na podstawie wcześniejszych parametrów\n",
    "X2 = np.random.multivariate_normal(mt2, S, n2)\n",
    "g = 2"
   ]
  },
  {
   "cell_type": "code",
   "execution_count": 211,
   "metadata": {},
   "outputs": [
    {
     "data": {
      "text/plain": [
       "[<matplotlib.lines.Line2D at 0xc2f1f08>]"
      ]
     },
     "execution_count": 211,
     "metadata": {},
     "output_type": "execute_result"
    },
    {
     "data": {
      "image/png": "[encoded data removed]",
      "text/plain": [
       "<Figure size 432x288 with 1 Axes>"
      ]
     },
     "metadata": {
      "needs_background": "light"
     },
     "output_type": "display_data"
    }
   ],
   "source": [
    "fig, ax = plt.subplots()\n",
    "ax.plot(X1[:,0], X1[:,1], 'o', label = 'Class 1')\n",
    "ax.plot(X2[:,0], X2[:,1], 'o', label = 'Class 2')"
   ]
  },
  {
   "cell_type": "code",
   "execution_count": 212,
   "metadata": {},
   "outputs": [],
   "source": [
    "#sklejenie współrzędnych wylosowanych punktów i dodanie kolumn z info o klasach\n",
    "X1_data = pd.DataFrame(X1, columns = [\"x\", \"y\"])\n",
    "X1_data[\"class\"] = [1] * len(X1)\n",
    "X2_data = pd.DataFrame(X2, columns = [\"x\", \"y\"])\n",
    "X2_data[\"class\"] = [2] * len(X2)\n",
    "XX = X1_data.append(X2_data, sort = False)"
   ]
  },
  {
   "cell_type": "code",
   "execution_count": 213,
   "metadata": {
    "scrolled": true
   },
   "outputs": [],
   "source": [
    "#tworzenie siatki współrzędnych\n",
    "x = np.arange(-10, 10, 0.1)\n",
    "y = np.arange(-10, 10, 0.1)\n",
    "xx = np.array(np.meshgrid(x, y)).reshape(2, 40000).T\n",
    "df = pd.DataFrame(xx, columns = [\"x\",\"y\"])"
   ]
  },
  {
   "cell_type": "code",
   "execution_count": 214,
   "metadata": {},
   "outputs": [
    {
     "data": {
      "text/plain": [
       "<matplotlib.contour.QuadContourSet at 0xea709c8>"
      ]
     },
     "execution_count": 214,
     "metadata": {},
     "output_type": "execute_result"
    },
    {
     "data": {
      "image/png": "[encoded data removed]",
      "text/plain": [
       "<Figure size 432x288 with 1 Axes>"
      ]
     },
     "metadata": {
      "needs_background": "light"
     },
     "output_type": "display_data"
    }
   ],
   "source": [
    "#wykreślenie rezultatu dyskryminacji przy użyciu funkcji GaussianNB\n",
    "NB = GaussianNB()\n",
    "predictions = NB.fit(XX[[\"x\",\"y\"]], XX[\"class\"]).predict(df).reshape(200,200)\n",
    "plt.contourf(x,y, predictions, colors = [\"yellow\", \"lightgreen\"])"
   ]
  },
  {
   "cell_type": "code",
   "execution_count": 215,
   "metadata": {},
   "outputs": [],
   "source": [
    "pi1 = n1/g\n",
    "pi2 = n2/g\n",
    "\n",
    "Se1 = np.cov(X1_data[[\"x\", \"y\"]], rowvar = False)\n",
    "Se2 = np.cov(X2_data[[\"x\", \"y\"]], rowvar = False)\n",
    "\n",
    "me1 = np.array([np.mean(X1_data[\"x\"]),np.mean(X1_data[\"y\"])])\n",
    "me2 = np.array([np.mean(X2_data[\"x\"]),np.mean(X2_data[\"y\"])])"
   ]
  },
  {
   "cell_type": "code",
   "execution_count": 216,
   "metadata": {},
   "outputs": [
    {
     "data": {
      "text/plain": [
       "<matplotlib.contour.QuadContourSet at 0xeafa808>"
      ]
     },
     "execution_count": 216,
     "metadata": {},
     "output_type": "execute_result"
    },
    {
     "data": {
      "image/png": "[encoded data removed]",
      "text/plain": [
       "<Figure size 432x288 with 1 Axes>"
      ]
     },
     "metadata": {
      "needs_background": "light"
     },
     "output_type": "display_data"
    }
   ],
   "source": [
    "def nbayes(Y, m1, m2, S1, S2, pi1, pi2):\n",
    "    return(pi1 * norm.pdf(Y[\"x\"], m1[0], np.sqrt(S1[0, 0])) * norm.pdf(Y[\"y\"], m1[1], np.sqrt(S1[1, 1])) / (pi2 * norm.pdf(Y[\"x\"], m2[0], np.sqrt(S2[0, 0])) * norm.pdf(Y[\"y\"], m2[1], np.sqrt(S2[1, 1]))))\n",
    "\n",
    "mat = np.matrix(nbayes(df,me1,me2,Se1,Se2,pi1,pi2)).reshape(200,200)\n",
    "plt.contourf(x,y, mat, colors = [\"yellow\", \"lightgreen\"])"
   ]
  }
 ],
 "metadata": {
  "kernelspec": {
   "display_name": "Python 3",
   "language": "python",
   "name": "python3"
  },
  "language_info": {
   "codemirror_mode": {
    "name": "ipython",
    "version": 3
   },
   "file_extension": ".py",
   "mimetype": "text/x-python",
   "name": "python",
   "nbconvert_exporter": "python",
   "pygments_lexer": "ipython3",
   "version": "3.7.4"
  }
 },
 "nbformat": 4,
 "nbformat_minor": 2
}
