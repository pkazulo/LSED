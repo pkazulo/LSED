{
 "cells": [
  {
   "cell_type": "code",
   "execution_count": 186,
   "metadata": {},
   "outputs": [],
   "source": [
    "import numpy as np\n",
    "import matplotlib.pyplot as plt\n",
    "import pandas as pd\n",
    "from sklearn.neighbors import KNeighborsClassifier as knn\n",
    "from sklearn.metrics import confusion_matrix"
   ]
  },
  {
   "cell_type": "markdown",
   "metadata": {},
   "source": [
    "Funkcja losująca wartości z dwóch rozkładów normalnych i tworząca z nich jedną ramkę danych."
   ]
  },
  {
   "cell_type": "code",
   "execution_count": 187,
   "metadata": {},
   "outputs": [],
   "source": [
    "def draw_data_gauss(S1, S2, m1, m2, n1, n2):\n",
    "    X1 = np.random.multivariate_normal(m1, S1, n1) #losowanie obserwacji w klasach na podstawie wcześniejszych parametrów\n",
    "    X2 = np.random.multivariate_normal(m2, S2, n2)\n",
    "    \n",
    "    X1_data = pd.DataFrame(X1, columns = [\"x\", \"y\"])\n",
    "    X1_data[\"class\"] = [1] * len(X1)\n",
    "    X2_data = pd.DataFrame(X2, columns = [\"x\", \"y\"])\n",
    "    X2_data[\"class\"] = [2] * len(X2)\n",
    "    XX = X1_data.append(X2_data, sort = False)\n",
    "    return XX"
   ]
  },
  {
   "cell_type": "markdown",
   "metadata": {},
   "source": [
    "Parametry rozkładów i tworzenie ramki danych"
   ]
  },
  {
   "cell_type": "code",
   "execution_count": 188,
   "metadata": {},
   "outputs": [],
   "source": [
    "d = {'x':[4,2],'y':[2,4]}\n",
    "S1 = pd.DataFrame(d)    #macierz kowariancji\n",
    "S2 = pd.DataFrame(d)    \n",
    "m1 = np.array([-1,-1]) #średnie klas\n",
    "m2 = np.array([2,2])\n",
    "n1 = 30                #liczebność klas\n",
    "n2 = 20\n",
    "n = n1+n2\n",
    "X = draw_data_gauss(S1, S2, m1, m2, n1, n2)"
   ]
  },
  {
   "cell_type": "markdown",
   "metadata": {},
   "source": [
    "Tablice, które będą trzymały wartości z macierzy pomyłek dla powtórnego podstawienia"
   ]
  },
  {
   "cell_type": "code",
   "execution_count": 189,
   "metadata": {},
   "outputs": [],
   "source": [
    "accuracy = np.zeros(21)\n",
    "tp = np.zeros(21)\n",
    "tn = np.zeros(21)"
   ]
  },
  {
   "cell_type": "markdown",
   "metadata": {},
   "source": [
    "Wyznaczanie parametrów macierzy pomyłek dla metody k-nn, gdzie k<1,21>"
   ]
  },
  {
   "cell_type": "code",
   "execution_count": 190,
   "metadata": {},
   "outputs": [],
   "source": [
    "for i in range(21):\n",
    "    knn_discriminant = knn(n_neighbors=i+1)\n",
    "    knn_pred = knn_discriminant.fit(X[X.columns[:2]], X[\"class\"]).predict(X[X.columns[:2]])\n",
    "    tn[i], fp, fn, tp[i] = confusion_matrix(X[\"class\"],knn_pred).ravel()\n",
    "    accuracy[i] = knn_discriminant.score(X[X.columns[:2]],X[\"class\"])"
   ]
  },
  {
   "cell_type": "markdown",
   "metadata": {},
   "source": [
    "Sklejenie tablic z parametrami w ramkę danych"
   ]
  },
  {
   "cell_type": "code",
   "execution_count": 191,
   "metadata": {},
   "outputs": [],
   "source": [
    "data = pd.DataFrame(np.array([accuracy, tp, tn, range(1,22)]).T, columns = [\"acc\", \"tp\", \"tn\", \"k\"])"
   ]
  },
  {
   "cell_type": "markdown",
   "metadata": {},
   "source": [
    "Tablice, które będą trzymały wartości z macierzy pomyłek dla grupy testowej"
   ]
  },
  {
   "cell_type": "code",
   "execution_count": 195,
   "metadata": {},
   "outputs": [],
   "source": [
    "accuracy_test = np.zeros(21)\n",
    "tp_test = np.zeros(21)\n",
    "tn_test = np.zeros(21)\n",
    "l = 10    #liczba prób"
   ]
  },
  {
   "cell_type": "markdown",
   "metadata": {},
   "source": [
    "Losowanie podgrupy testowej i wyznaczanie parametrów macierzy pomyłek dla metody k-nn, gdzie k<1,21>"
   ]
  },
  {
   "cell_type": "code",
   "execution_count": 196,
   "metadata": {},
   "outputs": [],
   "source": [
    "for j in range(l):\n",
    "    X1 = X[:n1].sample(10)\n",
    "    X2 = X[n1:n1+n2].sample(5)\n",
    "    XX = X1.append(X2, sort = False)\n",
    "    for i in range(21):\n",
    "        knn_discriminant = knn(n_neighbors=i+1)\n",
    "        knn_pred = knn_discriminant.fit(X[X.columns[:2]], X[\"class\"]).predict(XX[XX.columns[:2]])\n",
    "        tn_t, fp, fn, tp_t = confusion_matrix(XX[\"class\"],knn_pred).ravel()\n",
    "        tp_test[i] = tp_test[i] + tp_t\n",
    "        tn_test[i] = tn_test[i] + tn_t\n",
    "        accuracy_test[i] = accuracy_test[i] + knn_discriminant.score(XX[XX.columns[:2]],XX[\"class\"])"
   ]
  },
  {
   "cell_type": "markdown",
   "metadata": {},
   "source": [
    "Uśrednianie wartości po liczbie prób"
   ]
  },
  {
   "cell_type": "code",
   "execution_count": 197,
   "metadata": {},
   "outputs": [],
   "source": [
    "acc_mean = accuracy_test/l\n",
    "tp_mean = tp_test/l\n",
    "tn_mean = tn_test/l\n",
    "data_mean = pd.DataFrame(np.array([acc_mean, tp_mean, tn_mean, range(1,22)]).T, columns = [\"acc\", \"tp\", \"tn\", \"k\"])"
   ]
  },
  {
   "cell_type": "markdown",
   "metadata": {},
   "source": [
    "Rysowanie wykresów porównujących wyznaczone parametry w przypadku powtórnego podstawienia (Train) i losowania podgrup (Test)"
   ]
  },
  {
   "cell_type": "code",
   "execution_count": 198,
   "metadata": {},
   "outputs": [
    {
     "data": {
      "image/png": "[encoded data removed]",
      "text/plain": [
       "<Figure size 576x1152 with 3 Axes>"
      ]
     },
     "metadata": {
      "needs_background": "light"
     },
     "output_type": "display_data"
    }
   ],
   "source": [
    "fig, axs = plt.subplots(3, 1,sharex = \"col\", gridspec_kw = {\"hspace\": 0.2}, figsize = [8, 16])\n",
    "axs[0].plot(data[\"k\"], data[\"acc\"], 'o', label = \"Train\", alpha = 0.5)\n",
    "axs[1].plot(data[\"k\"], data[\"tp\"], 'o', label = \"Train\", alpha = 0.5)\n",
    "axs[2].plot(data[\"k\"], data[\"tn\"], 'o', label = \"Train\", alpha = 0.5)\n",
    "axs[0].plot(data_mean[\"k\"], data_mean[\"acc\"], 'o', label = \"Test\", alpha = 0.5)\n",
    "axs[1].plot(data_mean[\"k\"], data_mean[\"tp\"], 'o', label = \"Test\", alpha = 0.5)\n",
    "axs[2].plot(data_mean[\"k\"], data_mean[\"tn\"], 'o', label = \"Test\", alpha = 0.5)\n",
    "axs[0].set_ylim(0.7,1.1)\n",
    "axs[0].set_title(\"Plot accuracy(k-nn)\")\n",
    "axs[1].set_title(\"Plot tp(k-nn)\")\n",
    "axs[2].set_title(\"Plot tn(k-nn)\")\n",
    "axs[2].set_xlabel(\"k-nn\")\n",
    "axs[0].set_ylabel(\"accuracy\")\n",
    "axs[1].set_ylabel(\"tp\")\n",
    "axs[2].set_ylabel(\"tn\")\n",
    "axs[0].legend()\n",
    "axs[1].legend()\n",
    "axs[2].legend()\n",
    "plt.show(fig)"
   ]
  },
  {
   "cell_type": "code",
   "execution_count": null,
   "metadata": {},
   "outputs": [],
   "source": []
  }
 ],
 "metadata": {
  "kernelspec": {
   "display_name": "Python 3",
   "language": "python",
   "name": "python3"
  },
  "language_info": {
   "codemirror_mode": {
    "name": "ipython",
    "version": 3
   },
   "file_extension": ".py",
   "mimetype": "text/x-python",
   "name": "python",
   "nbconvert_exporter": "python",
   "pygments_lexer": "ipython3",
   "version": "3.7.4"
  }
 },
 "nbformat": 4,
 "nbformat_minor": 2
}
